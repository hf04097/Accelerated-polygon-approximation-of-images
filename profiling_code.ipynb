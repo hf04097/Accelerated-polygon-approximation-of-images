{
  "nbformat": 4,
  "nbformat_minor": 0,
  "metadata": {
    "colab": {
      "name": "mona_lisa",
      "provenance": [],
      "collapsed_sections": []
    },
    "kernelspec": {
      "name": "python3",
      "display_name": "Python 3"
    }
  },
  "cells": [
    {
      "cell_type": "code",
      "metadata": {
        "id": "MosuchHrIeYO"
      },
      "source": [
        "import numpy as np\n",
        "import math\n",
        "import random\n",
        "import matplotlib\n",
        "from matplotlib import pyplot as plt\n",
        "import time\n",
        "import cv2\n",
        "from PIL import Image, ImageDraw, ImagePath\n",
        "from shutil import copyfile\n",
        "import os\n",
        "import time"
      ],
      "execution_count": null,
      "outputs": []
    },
    {
      "cell_type": "code",
      "metadata": {
        "id": "__Sg6_mwIrph"
      },
      "source": [
        "pop_iniit_time =[]\n",
        "fitness_time =[]\n",
        "crossover_time = []\n",
        "mutation_time =[]\n",
        "offspring_time = []\n",
        "gen_time =[]\n",
        "\n",
        "class Individual:\n",
        "    def __init__(self, polygons, colors, generation, id, height, width):\n",
        "        self.polygons = polygons\n",
        "        self.colors = colors\n",
        "        self.name = f'{generation}_{id}.png'\n",
        "        self.fitness = -1\n",
        "        self.height = height\n",
        "        self.width = width\n",
        "        self.fitness = None\n",
        "        self.image = None\n",
        "        self.sides = 3\n",
        "\n",
        "    def translate(self, i):\n",
        "        current_polygon = self.polygons[i]\n",
        "        x = [j[0] for j in current_polygon]\n",
        "        y = [j[1] for j in current_polygon]\n",
        "        max_x = max(x)\n",
        "        max_y = max(y)\n",
        "        delta_x = random.randint(0 - max_x, self.width - max_x)\n",
        "        delta_y = random.randint(0 - max_y, self.height - max_y)\n",
        "        self.polygons[i] = [(x[j] + delta_x, y[j] + delta_y) for j in range(len(x))]\n",
        "\n",
        "    def generate_polygons(self, n = 100):\n",
        "        sides = 3\n",
        "        for i in range(n):\n",
        "            vertices = [self.get_random_cord()]\n",
        "            x = vertices[0][0]\n",
        "            y = vertices[0][1]\n",
        "            for j in range(sides - 1):\n",
        "                start_x = min(x, x + self.width//8)\n",
        "                end_x = max(x, x + self.width//8)\n",
        "                start_y = min(y, y + self.height//8)\n",
        "                end_y = max(y, y + self.height//8)\n",
        "                vertices.append(self.get_random_cord(range_val=[start_x, end_x, start_y, end_y]))\n",
        "            self.polygons.append(vertices)\n",
        "            self.colors.append(self.get_random_color())\n",
        "\n",
        "\n",
        "\n",
        "    def randomize_colors(self, rate = 1):\n",
        "        for i in range(len(self.colors)):\n",
        "            if random.random() < rate:\n",
        "                self.colors[i] = self.get_random_color()\n",
        "\n",
        "    def get_img_rep(self):\n",
        "        if self.image is None:\n",
        "            img = Image.new(mode = 'RGB', size = (self.width, self.height))\n",
        "            draw = ImageDraw.Draw(img, 'RGBA')\n",
        "\n",
        "            for i in range(len(self.polygons)):\n",
        "                current_poly = self.polygons[i]\n",
        "                current_color = self.colors[i]\n",
        "\n",
        "                draw.polygon(xy = current_poly, fill = current_color)\n",
        "            self.image = img\n",
        "        return self.image\n",
        "\n",
        "    def generate_fitness(self, target, fitness_func):\n",
        "        self.fitness = fitness_func(self.get_img_rep().convert(\"RGB\"), target)\n",
        "        return self.fitness\n",
        "\n",
        "    def save_img(self, name = ''):\n",
        "        if not name:\n",
        "            name = self.name\n",
        "        if self.image is None:\n",
        "            self.get_img_rep()\n",
        "        self.image.save(name)\n",
        "\n",
        "    def get_random_color(self, range_val = (0, 255)):\n",
        "\n",
        "        return tuple([255 for i in range(3)] + [random.randint(range_val[0], range_val[1])])\n",
        "\n",
        "    def get_random_cord(self, range_val = None):\n",
        "        if range_val is None:\n",
        "            return (random.randint(0, self.width), random.randint(0, self.height))\n",
        "        return (random.randint(range_val[0], range_val[1]), random.randint(range_val[2], range_val[3]))\n",
        "\n",
        "    def generate_img(self, n = 100):\n",
        "        self.generate_polygons(n = 100)\n",
        "        self.randomize_colors()\n",
        "\n",
        "    def __add__(self, other):\n",
        "        return self.fitness + other.fitness\n",
        "\n",
        "    def cross_over(self, mate, gen):\n",
        "        creating_crossover_time_start = time.time()\n",
        "        new_polygons = self.polygons.copy() + mate.polygons.copy()\n",
        "        new_colors = self.colors.copy() + mate.colors.copy()\n",
        "        new_size = random.randint(min(len(self.polygons), len(new_polygons)), max(len(self.polygons), len(new_polygons)))\n",
        "        indices = np.random.permutation(len(new_polygons))\n",
        "        off_spring_polygons = []\n",
        "        off_spring_colors = []\n",
        "        for i in range(new_size):\n",
        "            off_spring_polygons.append(new_polygons[indices[i]])\n",
        "            off_spring_colors.append(new_colors[indices[i]])\n",
        "\n",
        "        creating_crossover_time_diff =  time.time() - creating_crossover_time_start\n",
        "        #print(\"creating offspring time: \",creating_crossover_time_diff)\n",
        "        crossover_time.append(creating_crossover_time_diff)\n",
        "\n",
        "        return Individual(off_spring_polygons, off_spring_colors, gen, 0, self.height, self.width)\n",
        "\n",
        "    def mutation(self):\n",
        "        mutation_time_start = time.time()\n",
        "        for i in range(len(self.polygons)):\n",
        "            if random.random() < 0.5:\n",
        "                if random.random() < 0.5:\n",
        "                    self.colors[i] = self.get_random_color()\n",
        "                else:\n",
        "                    self.translate(i)\n",
        "\n",
        "        mutation_time_diff= time.time() - mutation_time_start \n",
        "        #print(\"mutation time: \",mutation_time_diff)\n",
        "        mutation_time.append(mutation_time_diff)\n",
        "\n",
        "def fitness_func(current_image, target_image):\n",
        "    fintess_time_start = time.time()\n",
        "    current_array = np.array(current_image)\n",
        "    target_array = np.array(target_image)\n",
        "    fitness = np.mean(np.abs(current_array - target_array))\n",
        "    fintess_time_diff = time.time() - fintess_time_start\n",
        "    #print(fintess_time_diff)\n",
        "    fitness_time.append(fintess_time_diff)\n",
        "    return fitness\n",
        "\n",
        "\n",
        "\n",
        "\n",
        "class GeneticAlgo:\n",
        "    def __init__(self, pop_size, generations, target_image):\n",
        "        self.pop_size = pop_size\n",
        "        self.generations = generations\n",
        "        self.current_gen = 0\n",
        "        self.current_population = []\n",
        "        self.current_fitness = []\n",
        "        self.img = target_image\n",
        "        self.width = target_image.size[1]\n",
        "        self.height = target_image.size[0]\n",
        "        self.offspring = int(self.pop_size * 0.2)\n",
        "        self.mutation_rate = 0.5\n",
        "\n",
        "    def initialize_population(self):\n",
        "        pop_start = time.time() \n",
        "        assert len(self.current_population) == 0\n",
        "        for i in range(self.pop_size):\n",
        "            obj = Individual([], [], 0, i, self.width, self.height)\n",
        "            obj.generate_polygons(random.randint(0, 10))\n",
        "            obj.generate_fitness(self.img, fitness_func)\n",
        "            self.current_population.append(obj)\n",
        "            self.current_fitness.append(obj.fitness)\n",
        "\n",
        "        pop_innit_diff = time.time()-pop_start\n",
        "        #print(\"initialization time: \",)\n",
        "        pop_iniit_time.append(pop_innit_diff)\n",
        "\n",
        "    def binary_tournament(self, size_to_remove):\n",
        "        pass\n",
        "\n",
        "\n",
        "\n",
        "    def evolution(self):\n",
        "        self.initialize_population()\n",
        "        best_obj_ind = np.argmin(self.current_fitness)\n",
        "        best_obj = self.current_population[best_obj_ind]\n",
        "        min_fit = self.current_fitness[best_obj_ind]\n",
        "        avg_fit = np.mean(self.current_fitness)\n",
        "        history = [min_fit]\n",
        "        best_obj.save_img()\n",
        "        print(\"fitness: \",min_fit, avg_fit)\n",
        "\n",
        "        for gen in range(self.generations):\n",
        "            gen_time_start = time.time()\n",
        "            #print(gen)\n",
        "            new_generation = []\n",
        "            for i in range(self.offspring):\n",
        "                offspring_time_start = time.time()\n",
        "                ind1 = (i)\n",
        "                ind2 = random.randint(0, self.pop_size - 1)\n",
        "                offspring = self.current_population[ind1].cross_over(self.current_population[ind2], gen)\n",
        "                if (random.random() < self.mutation_rate):\n",
        "                    offspring.mutation()\n",
        "\n",
        "                offspring.generate_fitness(self.img, fitness_func)\n",
        "                self.current_fitness.append(offspring.fitness)\n",
        "                new_generation.append(offspring)\n",
        "                offspring_time.append(time.time() - offspring_time_start)\n",
        "\n",
        "            self.current_population += new_generation\n",
        "            self.current_fitness.sort()\n",
        "            self.current_population.sort(key = lambda c: self.current_fitness.index(c.fitness))\n",
        "\n",
        "            self.current_population = self.current_population[:self.pop_size]\n",
        "            self.current_fitness = self.current_fitness[:self.pop_size]\n",
        "\n",
        "            if self.current_fitness[0] < min_fit:\n",
        "                self.current_population[0].save_img()\n",
        "            min_fit = self.current_fitness[0]\n",
        "            avg_fit = np.mean(self.current_fitness)\n",
        "\n",
        "            #print(min_fit, avg_fit)\n",
        "            history.append(min_fit)\n",
        "            gen_time.append(time.time()-gen_time_start)\n",
        "\n"
      ],
      "execution_count": null,
      "outputs": []
    },
    {
      "cell_type": "code",
      "metadata": {
        "id": "9YVy5Yk-IvVa",
        "colab": {
          "base_uri": "https://localhost:8080/"
        },
        "outputId": "27ccdb0d-61e6-4836-f268-2bbd52c13850"
      },
      "source": [
        "polygos = [[(0,0), (50, 50), (50, 0)]]\n",
        "colors = [(255, 255, 0, 255)]\n",
        "\n",
        "image = Image.open(\"mona_lisa_monocrhome.jpg\")\n",
        "algo = GeneticAlgo(100, 500, image)\n",
        "algo.evolution()"
      ],
      "execution_count": null,
      "outputs": [
        {
          "output_type": "stream",
          "text": [
            "fitness:  113.08732358870968 114.62903844391496\n"
          ],
          "name": "stdout"
        }
      ]
    },
    {
      "cell_type": "code",
      "metadata": {
        "id": "fgN3N5s-tErC",
        "colab": {
          "base_uri": "https://localhost:8080/"
        },
        "outputId": "e030a43b-15b2-477f-a502-cd6142e37616"
      },
      "source": [
        "from statistics import mean\n",
        "print(\"initialize pop: \",mean(pop_iniit_time))\n",
        "print(\"fitness time: \",mean(fitness_time))\n",
        "print(\"crossover time: \",mean(crossover_time))\n",
        "print(\"mutation time: \",mean(mutation_time))\n",
        "print(\"offspring time: \",mean(offspring_time))\n",
        "print(\"generation time: \",mean(gen_time))"
      ],
      "execution_count": null,
      "outputs": [
        {
          "output_type": "stream",
          "text": [
            "initialize pop:  0.12590336799621582\n",
            "fitness time:  0.0007323528516410601\n",
            "crossover time:  0.00029639842510223387\n",
            "mutation time:  0.0011365548165563732\n",
            "offspring time:  0.003676113510131836\n",
            "generation time:  0.07479695510864258\n"
          ],
          "name": "stdout"
        }
      ]
    },
    {
      "cell_type": "code",
      "metadata": {
        "id": "6KYz5H8vwlbB",
        "colab": {
          "base_uri": "https://localhost:8080/"
        },
        "outputId": "75dd8387-acf1-4f43-d382-c8642b95c958"
      },
      "source": [
        "max(fitness_time)"
      ],
      "execution_count": null,
      "outputs": [
        {
          "output_type": "execute_result",
          "data": {
            "text/plain": [
              "0.008845090866088867"
            ]
          },
          "metadata": {
            "tags": []
          },
          "execution_count": 24
        }
      ]
    }
  ]
}